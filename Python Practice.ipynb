{
 "cells": [
  {
   "cell_type": "code",
   "execution_count": 2,
   "id": "27cbf163-4042-4253-b5d9-6d651f0eec14",
   "metadata": {},
   "outputs": [
    {
     "data": {
      "text/plain": [
       "3"
      ]
     },
     "execution_count": 2,
     "metadata": {},
     "output_type": "execute_result"
    }
   ],
   "source": [
    "1+2"
   ]
  },
  {
   "cell_type": "code",
   "execution_count": 14,
   "id": "34241dfd-139a-4e1f-98f9-07bf34e804b9",
   "metadata": {},
   "outputs": [
    {
     "name": "stdout",
     "output_type": "stream",
     "text": [
      "Hello my name is 12 and my age is 12\n"
     ]
    }
   ],
   "source": [
    "name = 'Sheron'\n",
    "number = 12\n",
    "print('Hello my name is {y} and my age is {y}'.format(x = name,y = number))"
   ]
  },
  {
   "cell_type": "code",
   "execution_count": 22,
   "id": "e469932d-66aa-4721-828b-eea99ff5f5b0",
   "metadata": {},
   "outputs": [
    {
     "data": {
      "text/plain": [
       "[0, 1, 2, 3]"
      ]
     },
     "execution_count": 22,
     "metadata": {},
     "output_type": "execute_result"
    }
   ],
   "source": [
    "my_list = [0,1,2,3,4]\n",
    "my_list[:-1]"
   ]
  },
  {
   "cell_type": "code",
   "execution_count": 28,
   "id": "613b91e5-fba5-4a01-afe8-71374bbfcb8a",
   "metadata": {},
   "outputs": [
    {
     "data": {
      "text/plain": [
       "'a'"
      ]
     },
     "execution_count": 28,
     "metadata": {},
     "output_type": "execute_result"
    }
   ],
   "source": [
    "nested = [1,2,['a','b']]\n",
    "nested[2][0]"
   ]
  },
  {
   "cell_type": "code",
   "execution_count": 50,
   "id": "0ceb31d8-288b-4a3d-ac44-6161fab24301",
   "metadata": {},
   "outputs": [
    {
     "name": "stdout",
     "output_type": "stream",
     "text": [
      "(1, 2, 3)\n",
      "2\n"
     ]
    }
   ],
   "source": [
    "my_dict ={'a':(1,2,3),'b':2}\n",
    "for value in my_dict.values():\n",
    "    print(value)"
   ]
  },
  {
   "cell_type": "code",
   "execution_count": 54,
   "id": "b2ee5b8c-0a05-4f29-a97d-31dd24f33227",
   "metadata": {},
   "outputs": [
    {
     "data": {
      "text/plain": [
       "False"
      ]
     },
     "execution_count": 54,
     "metadata": {},
     "output_type": "execute_result"
    }
   ],
   "source": [
    "(1==1) and not (1==1)"
   ]
  },
  {
   "cell_type": "code",
   "execution_count": 56,
   "id": "2dee7da0-4336-4b98-8c48-90c9eefc9ae3",
   "metadata": {},
   "outputs": [
    {
     "data": {
      "text/plain": [
       "3125"
      ]
     },
     "execution_count": 56,
     "metadata": {},
     "output_type": "execute_result"
    }
   ],
   "source": [
    "def my_func(arg):\n",
    "    return arg**5\n",
    "\n",
    "result = my_func(5)\n",
    "result"
   ]
  },
  {
   "cell_type": "code",
   "execution_count": 58,
   "id": "9b15c6cf-e975-4252-8090-81a94a27fab2",
   "metadata": {},
   "outputs": [
    {
     "data": {
      "text/plain": [
       "<function __main__.<lambda>(x)>"
      ]
     },
     "execution_count": 58,
     "metadata": {},
     "output_type": "execute_result"
    }
   ],
   "source": [
    "lambda x:x*2"
   ]
  },
  {
   "cell_type": "code",
   "execution_count": 64,
   "id": "cfbf35fa-3571-4967-bacf-28adc8edd848",
   "metadata": {},
   "outputs": [
    {
     "data": {
      "text/plain": [
       "[2, 4, 6, 8, 10]"
      ]
     },
     "execution_count": 64,
     "metadata": {},
     "output_type": "execute_result"
    }
   ],
   "source": [
    "seq = [1,2,3,4,5]\n",
    "y = lambda x:x*2\n",
    "list(map(y, seq))"
   ]
  },
  {
   "cell_type": "code",
   "execution_count": 70,
   "id": "cdf4577c-69a0-4016-8282-6b2eb5e26af7",
   "metadata": {},
   "outputs": [
    {
     "data": {
      "text/plain": [
       "[2, 4]"
      ]
     },
     "execution_count": 70,
     "metadata": {},
     "output_type": "execute_result"
    }
   ],
   "source": [
    "seq = [1,2,3,4,5]\n",
    "list(filter(lambda x:x%2==0,seq))"
   ]
  },
  {
   "cell_type": "code",
   "execution_count": 76,
   "id": "0fcd2e63-3036-4340-a074-afcc06aecc8a",
   "metadata": {},
   "outputs": [
    {
     "data": {
      "text/plain": [
       "17.320508075688775"
      ]
     },
     "execution_count": 76,
     "metadata": {},
     "output_type": "execute_result"
    }
   ],
   "source": [
    "price = 300\n",
    "result = (price **0.5)\n",
    "result"
   ]
  },
  {
   "cell_type": "code",
   "execution_count": 78,
   "id": "b4acd4b7-f205-4da9-8247-370671efddc4",
   "metadata": {},
   "outputs": [
    {
     "data": {
      "text/plain": [
       "'500'"
      ]
     },
     "execution_count": 78,
     "metadata": {},
     "output_type": "execute_result"
    }
   ],
   "source": [
    "stock_index = \"SP500\"\n",
    "stock_index[2:5]"
   ]
  },
  {
   "cell_type": "code",
   "execution_count": 82,
   "id": "773a5bf3-7e9c-4a6f-9070-8e72755282d1",
   "metadata": {},
   "outputs": [
    {
     "name": "stdout",
     "output_type": "stream",
     "text": [
      "The SP500 is at 300 today\n"
     ]
    }
   ],
   "source": [
    "stock_index = \"SP500\"\n",
    "price = 300\n",
    "print('The {} is at {} today'.format('SP500',300))"
   ]
  },
  {
   "cell_type": "code",
   "execution_count": 94,
   "id": "e8fa0620-5c5a-40bc-acc8-4710f54d5df6",
   "metadata": {},
   "outputs": [
    {
     "data": {
      "text/plain": [
       "250"
      ]
     },
     "execution_count": 94,
     "metadata": {},
     "output_type": "execute_result"
    }
   ],
   "source": [
    "stock_info = {'sp500':{'today':300,'yesterday': 250}, 'info':['Time',[24,7,365]]}\n",
    "stock_info['sp500']['yesterday']"
   ]
  },
  {
   "cell_type": "code",
   "execution_count": 98,
   "id": "51c7fe6d-d45e-4ac8-9682-613b97673bf0",
   "metadata": {},
   "outputs": [
    {
     "data": {
      "text/plain": [
       "365"
      ]
     },
     "execution_count": 98,
     "metadata": {},
     "output_type": "execute_result"
    }
   ],
   "source": [
    "stock_info = {'sp500':{'today':300,'yesterday': 250}, 'info':['Time',[24,7,365]]}\n",
    "stock_info['info'][1][2]"
   ]
  },
  {
   "cell_type": "code",
   "execution_count": 104,
   "id": "f144af7c-9a9e-4362-af11-9e225676d61f",
   "metadata": {},
   "outputs": [
    {
     "data": {
      "text/plain": [
       "'QUANDL'"
      ]
     },
     "execution_count": 104,
     "metadata": {},
     "output_type": "execute_result"
    }
   ],
   "source": [
    "string = \"PRICE:345.324:SOURCE--QUANDL\"\n",
    "def source_finder(string):\n",
    "    return string.split('--')[1]\n",
    "\n",
    "source_finder(string)\n"
   ]
  },
  {
   "cell_type": "code",
   "execution_count": 154,
   "id": "255330ec-4fd1-4173-8184-e49314063c99",
   "metadata": {},
   "outputs": [
    {
     "name": "stdout",
     "output_type": "stream",
     "text": [
      "True\n"
     ]
    }
   ],
   "source": [
    "phrase = 'The price is 300?'\n",
    "def price_finder(phrase):\n",
    "    if 'price'.lower() in phrase:\n",
    "        return True\n",
    "    elif 'price'.upper() in phrase:\n",
    "        return True\n",
    "    else:\n",
    "        False\n",
    "        \n",
    "print(price_finder(phrase))"
   ]
  },
  {
   "cell_type": "code",
   "execution_count": 158,
   "id": "ac05c93b-65ae-436a-b9c3-4b7917629bae",
   "metadata": {},
   "outputs": [
    {
     "data": {
      "text/plain": [
       "1"
      ]
     },
     "execution_count": 158,
     "metadata": {},
     "output_type": "execute_result"
    }
   ],
   "source": [
    "s = 'Wow that is a nice price, very nice Price! I said price 3 times.'\n",
    "def count_price(s):\n",
    "    counter = 0\n",
    "    words = s.split()\n",
    "    for word in words:\n",
    "        if word.lower() == 'price':\n",
    "            counter +=1\n",
    "    return counter\n",
    "count_price(s)"
   ]
  },
  {
   "cell_type": "code",
   "execution_count": 162,
   "id": "84bd302a-b5eb-4afe-8772-1ebc7d448bdf",
   "metadata": {},
   "outputs": [
    {
     "name": "stdout",
     "output_type": "stream",
     "text": [
      "1\n"
     ]
    }
   ],
   "source": []
  },
  {
   "cell_type": "code",
   "execution_count": 166,
   "id": "bc64befa-cd6b-4653-921f-6c7c6da9cb67",
   "metadata": {},
   "outputs": [
    {
     "data": {
      "text/plain": [
       "100.0"
      ]
     },
     "execution_count": 166,
     "metadata": {},
     "output_type": "execute_result"
    }
   ],
   "source": [
    "stock_price = [100,150,50]\n",
    "def avg_price(stock_price):\n",
    "    return (sum(stock_price))/(len(stock_price))\n",
    "avg_price(stock_price)"
   ]
  },
  {
   "cell_type": "code",
   "execution_count": null,
   "id": "20d402f3-1672-4d90-9892-893994868a7c",
   "metadata": {},
   "outputs": [],
   "source": []
  }
 ],
 "metadata": {
  "kernelspec": {
   "display_name": "Python 3 (ipykernel)",
   "language": "python",
   "name": "python3"
  },
  "language_info": {
   "codemirror_mode": {
    "name": "ipython",
    "version": 3
   },
   "file_extension": ".py",
   "mimetype": "text/x-python",
   "name": "python",
   "nbconvert_exporter": "python",
   "pygments_lexer": "ipython3",
   "version": "3.12.7"
  }
 },
 "nbformat": 4,
 "nbformat_minor": 5
}
